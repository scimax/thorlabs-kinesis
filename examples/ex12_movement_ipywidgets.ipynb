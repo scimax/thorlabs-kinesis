{
 "cells": [
  {
   "cell_type": "markdown",
   "metadata": {},
   "source": [
    "# Example 12: KCube DC servo\n",
    "This example shows a simple interactive movement based on ipywidgets"
   ]
  },
  {
   "cell_type": "code",
   "execution_count": 1,
   "metadata": {},
   "outputs": [],
   "source": [
    "import os\n",
    "import sys\n",
    "import ctypes\n",
    "import time\n",
    "import ipywidgets as widgets\n",
    "from ipywidgets import interact, interactive\n",
    "#os.environ['PATH'] = \"C:\\\\Program Files\\\\ThorLabs\\\\Kinesis\" + \";\" + os.environ['PATH']\n",
    "os.add_dll_directory(\"C:\\\\Program Files\\\\ThorLabs\\\\Kinesis\")  \n",
    "sys.path.append(r\"thorlabs-kinesis\")"
   ]
  },
  {
   "cell_type": "code",
   "execution_count": 2,
   "metadata": {},
   "outputs": [],
   "source": [
    "from thorlabs_kinesis.kcube_dc_device import kcube\n",
    "from thorlabs_kinesis import kcube_dcservo as kcdc"
   ]
  },
  {
   "cell_type": "code",
   "execution_count": 3,
   "metadata": {},
   "outputs": [
    {
     "name": "stdout",
     "output_type": "stream",
     "text": [
      "Device list built (no errors).\n"
     ]
    }
   ],
   "source": [
    "if kcdc.TLI_BuildDeviceList() == 0:\n",
    "    print(\"Device list built (no errors).\")\n",
    "serial_no = \"27256231\"\n",
    "serialno = ctypes.c_char_p(bytes(serial_no, \"utf-8\"))"
   ]
  },
  {
   "cell_type": "code",
   "execution_count": 4,
   "metadata": {},
   "outputs": [],
   "source": [
    "serialno = ctypes.c_char_p(bytes(serial_no, \"utf-8\"))\n",
    "message_type = ctypes.wintypes.WORD()\n",
    "message_id = ctypes.wintypes.WORD()\n",
    "message_data = ctypes.wintypes.DWORD()\n",
    "\n",
    "def move_to_pos(move_pos_mm):\n",
    "    move_pos = int(move_pos_mm * kcube.steps_per_mm)\n",
    "    motor_command = ctypes.c_int(move_pos)\n",
    "\n",
    "    try:\n",
    "        # Open Communication\n",
    "        kcdc.CC_Open(serialno)\n",
    "        kcdc.CC_StartPolling(serialno, ctypes.c_int(200))\n",
    "        kcdc.CC_ClearMessageQueue(serialno)\n",
    "        time.sleep(0.5)\n",
    "                \n",
    "        # Start Move Test\n",
    "        w_move_state.value = False\n",
    "        w_move_state.description = \"moving\"\n",
    "        kcdc.CC_ClearMessageQueue(serialno)\n",
    "        kcdc.CC_MoveToPosition(serialno, motor_command)\n",
    "        kcdc.CC_WaitForMessage(serialno, ctypes.byref(message_type), \n",
    "                               ctypes.byref(message_id), ctypes.byref(message_data))\n",
    "\n",
    "        while (int(message_type.value) != 2) or (int(message_id.value) != 1):\n",
    "            kcdc.CC_WaitForMessage(serialno, ctypes.byref(message_type), \n",
    "                                   ctypes.byref(message_id), ctypes.byref(message_data))\n",
    "            kcdc.CC_RequestPosition(serialno)\n",
    "            w_out.value = kcdc.CC_GetPosition(serialno)/kcube.steps_per_mm\n",
    "        w_move_state.value = True\n",
    "        w_move_state.description = \"finished\"\n",
    "\n",
    "    finally:\n",
    "        # # Close Communication\n",
    "        kcdc.CC_StopPolling(serialno)\n",
    "        kcdc.CC_Close(serialno)"
   ]
  },
  {
   "cell_type": "code",
   "execution_count": 5,
   "metadata": {},
   "outputs": [
    {
     "data": {
      "application/vnd.jupyter.widget-view+json": {
       "model_id": "138003099e5c4ce196506f955e320493",
       "version_major": 2,
       "version_minor": 0
      },
      "text/plain": [
       "interactive(children=(FloatText(value=10.023, description='Set Position [mm]', step=0.01), Button(description=…"
      ]
     },
     "metadata": {},
     "output_type": "display_data"
    },
    {
     "data": {
      "application/vnd.jupyter.widget-view+json": {
       "model_id": "7f776742463f4385b8ff0c5439b79555",
       "version_major": 2,
       "version_minor": 0
      },
      "text/plain": [
       "FloatText(value=10.023, description='Current Position [mm]', disabled=True)"
      ]
     },
     "metadata": {},
     "output_type": "display_data"
    },
    {
     "data": {
      "application/vnd.jupyter.widget-view+json": {
       "model_id": "154e93fd7e284b08b92c89c4cb3f2918",
       "version_major": 2,
       "version_minor": 0
      },
      "text/plain": [
       "Valid(value=True, description='finished!')"
      ]
     },
     "metadata": {},
     "output_type": "display_data"
    }
   ],
   "source": [
    "# Open Communication\n",
    "current_position = 0\n",
    "\n",
    "try:\n",
    "    kcdc.CC_Open(serialno)\n",
    "    kcdc.CC_StartPolling(serialno, ctypes.c_int(200))\n",
    "    kcdc.CC_ClearMessageQueue(serialno)\n",
    "    time.sleep(1)\n",
    "    #Get Motor Position\n",
    "    current_position = kcdc.CC_GetPosition(serialno)/kcube.steps_per_mm\n",
    "    current_position = float(rf\"{current_position:7.4f}\")\n",
    "finally:\n",
    "    kcdc.CC_Close(serialno)\n",
    "    \n",
    "w_pos_in = widgets.FloatText(min=0.00, max=24.5, value=current_position, step=0.01, description=\"Set Position [mm]\")\n",
    "w_move_btn = widgets.Button(description='Move')\n",
    "\n",
    "w_out = widgets.FloatText(value=current_position, description=\"Current Position [mm]\", disabled = True)\n",
    "w_move_state = widgets.Valid(\n",
    "    value=True,\n",
    "    description='finished!',\n",
    ")\n",
    "\n",
    "widgets.interact_manual(move_to_pos, move_pos_mm=w_pos_in )\n",
    "display(w_out)\n",
    "display(w_move_state)"
   ]
  }
 ],
 "metadata": {
  "kernelspec": {
   "display_name": "Python 3",
   "language": "python",
   "name": "python3"
  },
  "language_info": {
   "codemirror_mode": {
    "name": "ipython",
    "version": 3
   },
   "file_extension": ".py",
   "mimetype": "text/x-python",
   "name": "python",
   "nbconvert_exporter": "python",
   "pygments_lexer": "ipython3",
   "version": "3.8.3"
  }
 },
 "nbformat": 4,
 "nbformat_minor": 4
}
